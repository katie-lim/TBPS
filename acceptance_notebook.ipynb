{
 "cells": [
  {
   "cell_type": "code",
   "execution_count": 1,
   "metadata": {},
   "outputs": [
    {
     "name": "stderr",
     "output_type": "stream",
     "text": [
      "c:\\Users\\Katie\\Documents\\TBPS\\data_tools.py:85: SettingWithCopyWarning: \n",
      "A value is trying to be set on a copy of a slice from a DataFrame\n",
      "\n",
      "See the caveats in the documentation: https://pandas.pydata.org/pandas-docs/stable/user_guide/indexing.html#returning-a-view-versus-a-copy\n",
      "  pf_df[i[0]][pf_df[i[0]] < 0] = 0\n",
      "c:\\Users\\Katie\\Documents\\TBPS\\data_tools.py:86: SettingWithCopyWarning: \n",
      "A value is trying to be set on a copy of a slice from a DataFrame\n",
      "\n",
      "See the caveats in the documentation: https://pandas.pydata.org/pandas-docs/stable/user_guide/indexing.html#returning-a-view-versus-a-copy\n",
      "  pf_df[i[1]][pf_df[i[1]] < 0] = 0\n",
      "c:\\Users\\Katie\\Documents\\TBPS\\data_tools.py:87: SettingWithCopyWarning: \n",
      "A value is trying to be set on a copy of a slice from a DataFrame\n",
      "\n",
      "See the caveats in the documentation: https://pandas.pydata.org/pandas-docs/stable/user_guide/indexing.html#returning-a-view-versus-a-copy\n",
      "  pf_df[i[2]][pf_df[i[2]] < 0] = 0\n",
      "c:\\Users\\Katie\\Documents\\TBPS\\data_tools.py:88: SettingWithCopyWarning: \n",
      "A value is trying to be set on a copy of a slice from a DataFrame\n",
      "\n",
      "See the caveats in the documentation: https://pandas.pydata.org/pandas-docs/stable/user_guide/indexing.html#returning-a-view-versus-a-copy\n",
      "  pf_df[i[3]][pf_df[i[3]] < 0] = 0\n",
      "c:\\Users\\Katie\\Documents\\TBPS\\data_tools.py:89: SettingWithCopyWarning: \n",
      "A value is trying to be set on a copy of a slice from a DataFrame\n",
      "\n",
      "See the caveats in the documentation: https://pandas.pydata.org/pandas-docs/stable/user_guide/indexing.html#returning-a-view-versus-a-copy\n",
      "  pf_df[i[4]][pf_df[i[4]] < 0] = 0\n"
     ]
    }
   ],
   "source": [
    "import numpy as np\n",
    "import pandas as pd\n",
    "import matplotlib.pyplot as plt\n",
    "from iminuit import Minuit\n",
    "from data_tools import *\n",
    "\n",
    "filepath = \"data/total_dataset.pkl\"\n",
    "total_dataset = load_dataset(filepath)\n",
    "filtered_dataset = filter_dataset(total_dataset)\n",
    "\n",
    "data_bins = split_into_bins(filtered_dataset)"
   ]
  },
  {
   "cell_type": "code",
   "execution_count": 38,
   "metadata": {},
   "outputs": [],
   "source": [
    "# Try plotting the data for a particular bin\n",
    "\n",
    "bin_number = 1\n",
    "number_of_bins_in_hist = 25\n",
    "\n",
    "bin = data_bins[bin_number]"
   ]
  },
  {
   "cell_type": "code",
   "execution_count": 39,
   "metadata": {},
   "outputs": [
    {
     "name": "stderr",
     "output_type": "stream",
     "text": [
      "c:\\Users\\Katie\\Documents\\TBPS\\data_tools.py:85: SettingWithCopyWarning: \n",
      "A value is trying to be set on a copy of a slice from a DataFrame\n",
      "\n",
      "See the caveats in the documentation: https://pandas.pydata.org/pandas-docs/stable/user_guide/indexing.html#returning-a-view-versus-a-copy\n",
      "  pf_df[i[0]][pf_df[i[0]] < 0] = 0\n",
      "c:\\Users\\Katie\\Documents\\TBPS\\data_tools.py:86: SettingWithCopyWarning: \n",
      "A value is trying to be set on a copy of a slice from a DataFrame\n",
      "\n",
      "See the caveats in the documentation: https://pandas.pydata.org/pandas-docs/stable/user_guide/indexing.html#returning-a-view-versus-a-copy\n",
      "  pf_df[i[1]][pf_df[i[1]] < 0] = 0\n",
      "c:\\Users\\Katie\\Documents\\TBPS\\data_tools.py:87: SettingWithCopyWarning: \n",
      "A value is trying to be set on a copy of a slice from a DataFrame\n",
      "\n",
      "See the caveats in the documentation: https://pandas.pydata.org/pandas-docs/stable/user_guide/indexing.html#returning-a-view-versus-a-copy\n",
      "  pf_df[i[2]][pf_df[i[2]] < 0] = 0\n",
      "c:\\Users\\Katie\\Documents\\TBPS\\data_tools.py:88: SettingWithCopyWarning: \n",
      "A value is trying to be set on a copy of a slice from a DataFrame\n",
      "\n",
      "See the caveats in the documentation: https://pandas.pydata.org/pandas-docs/stable/user_guide/indexing.html#returning-a-view-versus-a-copy\n",
      "  pf_df[i[3]][pf_df[i[3]] < 0] = 0\n",
      "c:\\Users\\Katie\\Documents\\TBPS\\data_tools.py:89: SettingWithCopyWarning: \n",
      "A value is trying to be set on a copy of a slice from a DataFrame\n",
      "\n",
      "See the caveats in the documentation: https://pandas.pydata.org/pandas-docs/stable/user_guide/indexing.html#returning-a-view-versus-a-copy\n",
      "  pf_df[i[4]][pf_df[i[4]] < 0] = 0\n"
     ]
    }
   ],
   "source": [
    "from acceptance_func import *\n",
    "\n",
    "# Obtain the acceptance function for this bin\n",
    "acceptance_func = get_acceptance_func(bin_number, number_of_bins_in_hist)"
   ]
  },
  {
   "cell_type": "code",
   "execution_count": 40,
   "metadata": {},
   "outputs": [
    {
     "data": {
      "image/png": "[encoded data removed]",
      "text/plain": [
       "<Figure size 432x288 with 1 Axes>"
      ]
     },
     "metadata": {
      "needs_background": "light"
     },
     "output_type": "display_data"
    }
   ],
   "source": [
    "# Plot the angular distribution\n",
    "\n",
    "plt.hist(bin[\"costhetal\"], bins=number_of_bins_in_hist, density=True, label=\"real data for bin %i\" % bin_number)\n",
    "x = np.linspace(-1,1,50)\n",
    "plt.plot(x, acceptance_func(x), label=\"acceptance function for bin %i\" % bin_number)\n",
    "plt.xlabel(r'$cos(\\theta_l)$')\n",
    "plt.ylabel('Number of candidates')\n",
    "plt.legend()\n",
    "plt.grid()"
   ]
  },
  {
   "cell_type": "markdown",
   "metadata": {},
   "source": [
    "### Precompute the acceptance functions for every bin"
   ]
  },
  {
   "cell_type": "code",
   "execution_count": 5,
   "metadata": {},
   "outputs": [
    {
     "name": "stderr",
     "output_type": "stream",
     "text": [
      "c:\\Users\\Katie\\Documents\\TBPS\\data_tools.py:85: SettingWithCopyWarning: \n",
      "A value is trying to be set on a copy of a slice from a DataFrame\n",
      "\n",
      "See the caveats in the documentation: https://pandas.pydata.org/pandas-docs/stable/user_guide/indexing.html#returning-a-view-versus-a-copy\n",
      "  pf_df[i[0]][pf_df[i[0]] < 0] = 0\n",
      "c:\\Users\\Katie\\Documents\\TBPS\\data_tools.py:86: SettingWithCopyWarning: \n",
      "A value is trying to be set on a copy of a slice from a DataFrame\n",
      "\n",
      "See the caveats in the documentation: https://pandas.pydata.org/pandas-docs/stable/user_guide/indexing.html#returning-a-view-versus-a-copy\n",
      "  pf_df[i[1]][pf_df[i[1]] < 0] = 0\n",
      "c:\\Users\\Katie\\Documents\\TBPS\\data_tools.py:87: SettingWithCopyWarning: \n",
      "A value is trying to be set on a copy of a slice from a DataFrame\n",
      "\n",
      "See the caveats in the documentation: https://pandas.pydata.org/pandas-docs/stable/user_guide/indexing.html#returning-a-view-versus-a-copy\n",
      "  pf_df[i[2]][pf_df[i[2]] < 0] = 0\n",
      "c:\\Users\\Katie\\Documents\\TBPS\\data_tools.py:88: SettingWithCopyWarning: \n",
      "A value is trying to be set on a copy of a slice from a DataFrame\n",
      "\n",
      "See the caveats in the documentation: https://pandas.pydata.org/pandas-docs/stable/user_guide/indexing.html#returning-a-view-versus-a-copy\n",
      "  pf_df[i[3]][pf_df[i[3]] < 0] = 0\n",
      "c:\\Users\\Katie\\Documents\\TBPS\\data_tools.py:89: SettingWithCopyWarning: \n",
      "A value is trying to be set on a copy of a slice from a DataFrame\n",
      "\n",
      "See the caveats in the documentation: https://pandas.pydata.org/pandas-docs/stable/user_guide/indexing.html#returning-a-view-versus-a-copy\n",
      "  pf_df[i[4]][pf_df[i[4]] < 0] = 0\n",
      "c:\\Users\\Katie\\Documents\\TBPS\\data_tools.py:85: SettingWithCopyWarning: \n",
      "A value is trying to be set on a copy of a slice from a DataFrame\n",
      "\n",
      "See the caveats in the documentation: https://pandas.pydata.org/pandas-docs/stable/user_guide/indexing.html#returning-a-view-versus-a-copy\n",
      "  pf_df[i[0]][pf_df[i[0]] < 0] = 0\n",
      "c:\\Users\\Katie\\Documents\\TBPS\\data_tools.py:86: SettingWithCopyWarning: \n",
      "A value is trying to be set on a copy of a slice from a DataFrame\n",
      "\n",
      "See the caveats in the documentation: https://pandas.pydata.org/pandas-docs/stable/user_guide/indexing.html#returning-a-view-versus-a-copy\n",
      "  pf_df[i[1]][pf_df[i[1]] < 0] = 0\n",
      "c:\\Users\\Katie\\Documents\\TBPS\\data_tools.py:87: SettingWithCopyWarning: \n",
      "A value is trying to be set on a copy of a slice from a DataFrame\n",
      "\n",
      "See the caveats in the documentation: https://pandas.pydata.org/pandas-docs/stable/user_guide/indexing.html#returning-a-view-versus-a-copy\n",
      "  pf_df[i[2]][pf_df[i[2]] < 0] = 0\n",
      "c:\\Users\\Katie\\Documents\\TBPS\\data_tools.py:88: SettingWithCopyWarning: \n",
      "A value is trying to be set on a copy of a slice from a DataFrame\n",
      "\n",
      "See the caveats in the documentation: https://pandas.pydata.org/pandas-docs/stable/user_guide/indexing.html#returning-a-view-versus-a-copy\n",
      "  pf_df[i[3]][pf_df[i[3]] < 0] = 0\n",
      "c:\\Users\\Katie\\Documents\\TBPS\\data_tools.py:89: SettingWithCopyWarning: \n",
      "A value is trying to be set on a copy of a slice from a DataFrame\n",
      "\n",
      "See the caveats in the documentation: https://pandas.pydata.org/pandas-docs/stable/user_guide/indexing.html#returning-a-view-versus-a-copy\n",
      "  pf_df[i[4]][pf_df[i[4]] < 0] = 0\n",
      "c:\\Users\\Katie\\Documents\\TBPS\\data_tools.py:85: SettingWithCopyWarning: \n",
      "A value is trying to be set on a copy of a slice from a DataFrame\n",
      "\n",
      "See the caveats in the documentation: https://pandas.pydata.org/pandas-docs/stable/user_guide/indexing.html#returning-a-view-versus-a-copy\n",
      "  pf_df[i[0]][pf_df[i[0]] < 0] = 0\n",
      "c:\\Users\\Katie\\Documents\\TBPS\\data_tools.py:86: SettingWithCopyWarning: \n",
      "A value is trying to be set on a copy of a slice from a DataFrame\n",
      "\n",
      "See the caveats in the documentation: https://pandas.pydata.org/pandas-docs/stable/user_guide/indexing.html#returning-a-view-versus-a-copy\n",
      "  pf_df[i[1]][pf_df[i[1]] < 0] = 0\n",
      "c:\\Users\\Katie\\Documents\\TBPS\\data_tools.py:87: SettingWithCopyWarning: \n",
      "A value is trying to be set on a copy of a slice from a DataFrame\n",
      "\n",
      "See the caveats in the documentation: https://pandas.pydata.org/pandas-docs/stable/user_guide/indexing.html#returning-a-view-versus-a-copy\n",
      "  pf_df[i[2]][pf_df[i[2]] < 0] = 0\n",
      "c:\\Users\\Katie\\Documents\\TBPS\\data_tools.py:88: SettingWithCopyWarning: \n",
      "A value is trying to be set on a copy of a slice from a DataFrame\n",
      "\n",
      "See the caveats in the documentation: https://pandas.pydata.org/pandas-docs/stable/user_guide/indexing.html#returning-a-view-versus-a-copy\n",
      "  pf_df[i[3]][pf_df[i[3]] < 0] = 0\n",
      "c:\\Users\\Katie\\Documents\\TBPS\\data_tools.py:89: SettingWithCopyWarning: \n",
      "A value is trying to be set on a copy of a slice from a DataFrame\n",
      "\n",
      "See the caveats in the documentation: https://pandas.pydata.org/pandas-docs/stable/user_guide/indexing.html#returning-a-view-versus-a-copy\n",
      "  pf_df[i[4]][pf_df[i[4]] < 0] = 0\n",
      "c:\\Users\\Katie\\Documents\\TBPS\\data_tools.py:85: SettingWithCopyWarning: \n",
      "A value is trying to be set on a copy of a slice from a DataFrame\n",
      "\n",
      "See the caveats in the documentation: https://pandas.pydata.org/pandas-docs/stable/user_guide/indexing.html#returning-a-view-versus-a-copy\n",
      "  pf_df[i[0]][pf_df[i[0]] < 0] = 0\n",
      "c:\\Users\\Katie\\Documents\\TBPS\\data_tools.py:86: SettingWithCopyWarning: \n",
      "A value is trying to be set on a copy of a slice from a DataFrame\n",
      "\n",
      "See the caveats in the documentation: https://pandas.pydata.org/pandas-docs/stable/user_guide/indexing.html#returning-a-view-versus-a-copy\n",
      "  pf_df[i[1]][pf_df[i[1]] < 0] = 0\n",
      "c:\\Users\\Katie\\Documents\\TBPS\\data_tools.py:87: SettingWithCopyWarning: \n",
      "A value is trying to be set on a copy of a slice from a DataFrame\n",
      "\n",
      "See the caveats in the documentation: https://pandas.pydata.org/pandas-docs/stable/user_guide/indexing.html#returning-a-view-versus-a-copy\n",
      "  pf_df[i[2]][pf_df[i[2]] < 0] = 0\n",
      "c:\\Users\\Katie\\Documents\\TBPS\\data_tools.py:88: SettingWithCopyWarning: \n",
      "A value is trying to be set on a copy of a slice from a DataFrame\n",
      "\n",
      "See the caveats in the documentation: https://pandas.pydata.org/pandas-docs/stable/user_guide/indexing.html#returning-a-view-versus-a-copy\n",
      "  pf_df[i[3]][pf_df[i[3]] < 0] = 0\n",
      "c:\\Users\\Katie\\Documents\\TBPS\\data_tools.py:89: SettingWithCopyWarning: \n",
      "A value is trying to be set on a copy of a slice from a DataFrame\n",
      "\n",
      "See the caveats in the documentation: https://pandas.pydata.org/pandas-docs/stable/user_guide/indexing.html#returning-a-view-versus-a-copy\n",
      "  pf_df[i[4]][pf_df[i[4]] < 0] = 0\n",
      "c:\\Users\\Katie\\Documents\\TBPS\\data_tools.py:85: SettingWithCopyWarning: \n",
      "A value is trying to be set on a copy of a slice from a DataFrame\n",
      "\n",
      "See the caveats in the documentation: https://pandas.pydata.org/pandas-docs/stable/user_guide/indexing.html#returning-a-view-versus-a-copy\n",
      "  pf_df[i[0]][pf_df[i[0]] < 0] = 0\n",
      "c:\\Users\\Katie\\Documents\\TBPS\\data_tools.py:86: SettingWithCopyWarning: \n",
      "A value is trying to be set on a copy of a slice from a DataFrame\n",
      "\n",
      "See the caveats in the documentation: https://pandas.pydata.org/pandas-docs/stable/user_guide/indexing.html#returning-a-view-versus-a-copy\n",
      "  pf_df[i[1]][pf_df[i[1]] < 0] = 0\n",
      "c:\\Users\\Katie\\Documents\\TBPS\\data_tools.py:87: SettingWithCopyWarning: \n",
      "A value is trying to be set on a copy of a slice from a DataFrame\n",
      "\n",
      "See the caveats in the documentation: https://pandas.pydata.org/pandas-docs/stable/user_guide/indexing.html#returning-a-view-versus-a-copy\n",
      "  pf_df[i[2]][pf_df[i[2]] < 0] = 0\n",
      "c:\\Users\\Katie\\Documents\\TBPS\\data_tools.py:88: SettingWithCopyWarning: \n",
      "A value is trying to be set on a copy of a slice from a DataFrame\n",
      "\n",
      "See the caveats in the documentation: https://pandas.pydata.org/pandas-docs/stable/user_guide/indexing.html#returning-a-view-versus-a-copy\n",
      "  pf_df[i[3]][pf_df[i[3]] < 0] = 0\n",
      "c:\\Users\\Katie\\Documents\\TBPS\\data_tools.py:89: SettingWithCopyWarning: \n",
      "A value is trying to be set on a copy of a slice from a DataFrame\n",
      "\n",
      "See the caveats in the documentation: https://pandas.pydata.org/pandas-docs/stable/user_guide/indexing.html#returning-a-view-versus-a-copy\n",
      "  pf_df[i[4]][pf_df[i[4]] < 0] = 0\n",
      "c:\\Users\\Katie\\Documents\\TBPS\\data_tools.py:85: SettingWithCopyWarning: \n",
      "A value is trying to be set on a copy of a slice from a DataFrame\n",
      "\n",
      "See the caveats in the documentation: https://pandas.pydata.org/pandas-docs/stable/user_guide/indexing.html#returning-a-view-versus-a-copy\n",
      "  pf_df[i[0]][pf_df[i[0]] < 0] = 0\n",
      "c:\\Users\\Katie\\Documents\\TBPS\\data_tools.py:86: SettingWithCopyWarning: \n",
      "A value is trying to be set on a copy of a slice from a DataFrame\n",
      "\n",
      "See the caveats in the documentation: https://pandas.pydata.org/pandas-docs/stable/user_guide/indexing.html#returning-a-view-versus-a-copy\n",
      "  pf_df[i[1]][pf_df[i[1]] < 0] = 0\n",
      "c:\\Users\\Katie\\Documents\\TBPS\\data_tools.py:87: SettingWithCopyWarning: \n",
      "A value is trying to be set on a copy of a slice from a DataFrame\n",
      "\n",
      "See the caveats in the documentation: https://pandas.pydata.org/pandas-docs/stable/user_guide/indexing.html#returning-a-view-versus-a-copy\n",
      "  pf_df[i[2]][pf_df[i[2]] < 0] = 0\n",
      "c:\\Users\\Katie\\Documents\\TBPS\\data_tools.py:88: SettingWithCopyWarning: \n",
      "A value is trying to be set on a copy of a slice from a DataFrame\n",
      "\n",
      "See the caveats in the documentation: https://pandas.pydata.org/pandas-docs/stable/user_guide/indexing.html#returning-a-view-versus-a-copy\n",
      "  pf_df[i[3]][pf_df[i[3]] < 0] = 0\n",
      "c:\\Users\\Katie\\Documents\\TBPS\\data_tools.py:89: SettingWithCopyWarning: \n",
      "A value is trying to be set on a copy of a slice from a DataFrame\n",
      "\n",
      "See the caveats in the documentation: https://pandas.pydata.org/pandas-docs/stable/user_guide/indexing.html#returning-a-view-versus-a-copy\n",
      "  pf_df[i[4]][pf_df[i[4]] < 0] = 0\n",
      "c:\\Users\\Katie\\Documents\\TBPS\\data_tools.py:85: SettingWithCopyWarning: \n",
      "A value is trying to be set on a copy of a slice from a DataFrame\n",
      "\n",
      "See the caveats in the documentation: https://pandas.pydata.org/pandas-docs/stable/user_guide/indexing.html#returning-a-view-versus-a-copy\n",
      "  pf_df[i[0]][pf_df[i[0]] < 0] = 0\n",
      "c:\\Users\\Katie\\Documents\\TBPS\\data_tools.py:86: SettingWithCopyWarning: \n",
      "A value is trying to be set on a copy of a slice from a DataFrame\n",
      "\n",
      "See the caveats in the documentation: https://pandas.pydata.org/pandas-docs/stable/user_guide/indexing.html#returning-a-view-versus-a-copy\n",
      "  pf_df[i[1]][pf_df[i[1]] < 0] = 0\n",
      "c:\\Users\\Katie\\Documents\\TBPS\\data_tools.py:87: SettingWithCopyWarning: \n",
      "A value is trying to be set on a copy of a slice from a DataFrame\n",
      "\n",
      "See the caveats in the documentation: https://pandas.pydata.org/pandas-docs/stable/user_guide/indexing.html#returning-a-view-versus-a-copy\n",
      "  pf_df[i[2]][pf_df[i[2]] < 0] = 0\n",
      "c:\\Users\\Katie\\Documents\\TBPS\\data_tools.py:88: SettingWithCopyWarning: \n",
      "A value is trying to be set on a copy of a slice from a DataFrame\n",
      "\n",
      "See the caveats in the documentation: https://pandas.pydata.org/pandas-docs/stable/user_guide/indexing.html#returning-a-view-versus-a-copy\n",
      "  pf_df[i[3]][pf_df[i[3]] < 0] = 0\n",
      "c:\\Users\\Katie\\Documents\\TBPS\\data_tools.py:89: SettingWithCopyWarning: \n",
      "A value is trying to be set on a copy of a slice from a DataFrame\n",
      "\n",
      "See the caveats in the documentation: https://pandas.pydata.org/pandas-docs/stable/user_guide/indexing.html#returning-a-view-versus-a-copy\n",
      "  pf_df[i[4]][pf_df[i[4]] < 0] = 0\n",
      "c:\\Users\\Katie\\Documents\\TBPS\\data_tools.py:85: SettingWithCopyWarning: \n",
      "A value is trying to be set on a copy of a slice from a DataFrame\n",
      "\n",
      "See the caveats in the documentation: https://pandas.pydata.org/pandas-docs/stable/user_guide/indexing.html#returning-a-view-versus-a-copy\n",
      "  pf_df[i[0]][pf_df[i[0]] < 0] = 0\n",
      "c:\\Users\\Katie\\Documents\\TBPS\\data_tools.py:86: SettingWithCopyWarning: \n",
      "A value is trying to be set on a copy of a slice from a DataFrame\n",
      "\n",
      "See the caveats in the documentation: https://pandas.pydata.org/pandas-docs/stable/user_guide/indexing.html#returning-a-view-versus-a-copy\n",
      "  pf_df[i[1]][pf_df[i[1]] < 0] = 0\n",
      "c:\\Users\\Katie\\Documents\\TBPS\\data_tools.py:87: SettingWithCopyWarning: \n",
      "A value is trying to be set on a copy of a slice from a DataFrame\n",
      "\n",
      "See the caveats in the documentation: https://pandas.pydata.org/pandas-docs/stable/user_guide/indexing.html#returning-a-view-versus-a-copy\n",
      "  pf_df[i[2]][pf_df[i[2]] < 0] = 0\n",
      "c:\\Users\\Katie\\Documents\\TBPS\\data_tools.py:88: SettingWithCopyWarning: \n",
      "A value is trying to be set on a copy of a slice from a DataFrame\n",
      "\n",
      "See the caveats in the documentation: https://pandas.pydata.org/pandas-docs/stable/user_guide/indexing.html#returning-a-view-versus-a-copy\n",
      "  pf_df[i[3]][pf_df[i[3]] < 0] = 0\n",
      "c:\\Users\\Katie\\Documents\\TBPS\\data_tools.py:89: SettingWithCopyWarning: \n",
      "A value is trying to be set on a copy of a slice from a DataFrame\n",
      "\n",
      "See the caveats in the documentation: https://pandas.pydata.org/pandas-docs/stable/user_guide/indexing.html#returning-a-view-versus-a-copy\n",
      "  pf_df[i[4]][pf_df[i[4]] < 0] = 0\n",
      "c:\\Users\\Katie\\Documents\\TBPS\\data_tools.py:85: SettingWithCopyWarning: \n",
      "A value is trying to be set on a copy of a slice from a DataFrame\n",
      "\n",
      "See the caveats in the documentation: https://pandas.pydata.org/pandas-docs/stable/user_guide/indexing.html#returning-a-view-versus-a-copy\n",
      "  pf_df[i[0]][pf_df[i[0]] < 0] = 0\n",
      "c:\\Users\\Katie\\Documents\\TBPS\\data_tools.py:86: SettingWithCopyWarning: \n",
      "A value is trying to be set on a copy of a slice from a DataFrame\n",
      "\n",
      "See the caveats in the documentation: https://pandas.pydata.org/pandas-docs/stable/user_guide/indexing.html#returning-a-view-versus-a-copy\n",
      "  pf_df[i[1]][pf_df[i[1]] < 0] = 0\n",
      "c:\\Users\\Katie\\Documents\\TBPS\\data_tools.py:87: SettingWithCopyWarning: \n",
      "A value is trying to be set on a copy of a slice from a DataFrame\n",
      "\n",
      "See the caveats in the documentation: https://pandas.pydata.org/pandas-docs/stable/user_guide/indexing.html#returning-a-view-versus-a-copy\n",
      "  pf_df[i[2]][pf_df[i[2]] < 0] = 0\n",
      "c:\\Users\\Katie\\Documents\\TBPS\\data_tools.py:88: SettingWithCopyWarning: \n",
      "A value is trying to be set on a copy of a slice from a DataFrame\n",
      "\n",
      "See the caveats in the documentation: https://pandas.pydata.org/pandas-docs/stable/user_guide/indexing.html#returning-a-view-versus-a-copy\n",
      "  pf_df[i[3]][pf_df[i[3]] < 0] = 0\n",
      "c:\\Users\\Katie\\Documents\\TBPS\\data_tools.py:89: SettingWithCopyWarning: \n",
      "A value is trying to be set on a copy of a slice from a DataFrame\n",
      "\n",
      "See the caveats in the documentation: https://pandas.pydata.org/pandas-docs/stable/user_guide/indexing.html#returning-a-view-versus-a-copy\n",
      "  pf_df[i[4]][pf_df[i[4]] < 0] = 0\n",
      "c:\\Users\\Katie\\Documents\\TBPS\\data_tools.py:85: SettingWithCopyWarning: \n",
      "A value is trying to be set on a copy of a slice from a DataFrame\n",
      "\n",
      "See the caveats in the documentation: https://pandas.pydata.org/pandas-docs/stable/user_guide/indexing.html#returning-a-view-versus-a-copy\n",
      "  pf_df[i[0]][pf_df[i[0]] < 0] = 0\n",
      "c:\\Users\\Katie\\Documents\\TBPS\\data_tools.py:86: SettingWithCopyWarning: \n",
      "A value is trying to be set on a copy of a slice from a DataFrame\n",
      "\n",
      "See the caveats in the documentation: https://pandas.pydata.org/pandas-docs/stable/user_guide/indexing.html#returning-a-view-versus-a-copy\n",
      "  pf_df[i[1]][pf_df[i[1]] < 0] = 0\n",
      "c:\\Users\\Katie\\Documents\\TBPS\\data_tools.py:87: SettingWithCopyWarning: \n",
      "A value is trying to be set on a copy of a slice from a DataFrame\n",
      "\n",
      "See the caveats in the documentation: https://pandas.pydata.org/pandas-docs/stable/user_guide/indexing.html#returning-a-view-versus-a-copy\n",
      "  pf_df[i[2]][pf_df[i[2]] < 0] = 0\n",
      "c:\\Users\\Katie\\Documents\\TBPS\\data_tools.py:88: SettingWithCopyWarning: \n",
      "A value is trying to be set on a copy of a slice from a DataFrame\n",
      "\n",
      "See the caveats in the documentation: https://pandas.pydata.org/pandas-docs/stable/user_guide/indexing.html#returning-a-view-versus-a-copy\n",
      "  pf_df[i[3]][pf_df[i[3]] < 0] = 0\n",
      "c:\\Users\\Katie\\Documents\\TBPS\\data_tools.py:89: SettingWithCopyWarning: \n",
      "A value is trying to be set on a copy of a slice from a DataFrame\n",
      "\n",
      "See the caveats in the documentation: https://pandas.pydata.org/pandas-docs/stable/user_guide/indexing.html#returning-a-view-versus-a-copy\n",
      "  pf_df[i[4]][pf_df[i[4]] < 0] = 0\n"
     ]
    }
   ],
   "source": [
    "acceptance_funcs = [get_acceptance_func(i, number_of_bins_in_hist) for i in range(len(data_bins))]\n",
    "normalisation_factors = [get_normalisation_factor(p) for p in acceptance_funcs]"
   ]
  },
  {
   "cell_type": "code",
   "execution_count": 6,
   "metadata": {},
   "outputs": [
    {
     "data": {
      "text/plain": [
       "[2.0023515108691368,\n",
       " 2.0010912284996594,\n",
       " 1.9998683951713716,\n",
       " 1.9996995634914632,\n",
       " 1.9994569048976278,\n",
       " 1.9999350299340506,\n",
       " 1.9995404028853696,\n",
       " 2.0000960397608645,\n",
       " 2.0002116612077887,\n",
       " 1.9998196946206896]"
      ]
     },
     "execution_count": 6,
     "metadata": {},
     "output_type": "execute_result"
    }
   ],
   "source": [
    "normalisation_factors"
   ]
  },
  {
   "cell_type": "markdown",
   "metadata": {},
   "source": [
    "### Run the skeleton code with our acceptance functions"
   ]
  },
  {
   "cell_type": "code",
   "execution_count": 27,
   "metadata": {},
   "outputs": [],
   "source": [
    "def d2gamma_p_d2q2_dcostheta(fl, afb, cos_theta_l, acceptance_func, normalisation_factor):\n",
    "    \"\"\"\n",
    "    Returns the pdf defined above\n",
    "    :param fl: f_l observable\n",
    "    :param afb: a_fb observable\n",
    "    :param cos_theta_l: cos(theta_l)\n",
    "    :return:\n",
    "    \"\"\"\n",
    "    ctl = cos_theta_l\n",
    "    c2tl = 2 * ctl ** 2 - 1\n",
    "    acceptance = 1/acceptance_func(cos_theta_l) # 1/acceptance_func because we want to invert the warping\n",
    "    scalar_array = 3/8 * (3/2 - 1/2 * fl + 1/2 * c2tl * (1 - 3 * fl) + 8/3 * afb * ctl) * acceptance\n",
    "    #normalised_scalar_array = scalar_array * 2  # normalising scalar array to account for the non-unity acceptance function\n",
    "    normalised_scalar_array = scalar_array / normalisation_factor\n",
    "    return normalised_scalar_array\n",
    "\n",
    "def log_likelihood(fl, afb, bin_number):\n",
    "    \"\"\"\n",
    "    Returns the negative log-likelihood of the pdf defined above\n",
    "    :param fl: f_l observable\n",
    "    :param afb: a_fb observable\n",
    "    :param _bin: number of the bin to fit\n",
    "    :return:\n",
    "    \"\"\"\n",
    "    bin_number = int(bin_number)\n",
    "    _bin = data_bins[bin_number]\n",
    "    ctl = _bin['costhetal']\n",
    "\n",
    "    acceptance_func = acceptance_funcs[bin_number]\n",
    "    normalisation_factor = normalisation_factors[bin_number]\n",
    "\n",
    "    normalised_scalar_array = d2gamma_p_d2q2_dcostheta(fl=fl, afb=afb, cos_theta_l=ctl, acceptance_func=acceptance_func, normalisation_factor=normalisation_factor)\n",
    "    return - np.sum(np.log(normalised_scalar_array))"
   ]
  },
  {
   "cell_type": "code",
   "execution_count": 28,
   "metadata": {},
   "outputs": [
    {
     "name": "stderr",
     "output_type": "stream",
     "text": [
      "C:\\Users\\Katie\\Anaconda3\\lib\\site-packages\\pandas\\core\\arraylike.py:364: RuntimeWarning: invalid value encountered in log\n",
      "  result = getattr(ufunc, method)(*inputs, **kwargs)\n",
      "C:\\Users\\Katie\\Anaconda3\\lib\\site-packages\\pandas\\core\\arraylike.py:364: RuntimeWarning: invalid value encountered in log\n",
      "  result = getattr(ufunc, method)(*inputs, **kwargs)\n"
     ]
    },
    {
     "data": {
      "image/png": "[encoded data removed]",
      "text/plain": [
       "<Figure size 576x216 with 2 Axes>"
      ]
     },
     "metadata": {
      "needs_background": "light"
     },
     "output_type": "display_data"
    }
   ],
   "source": [
    "_test_bin = 3\n",
    "_test_afb = 0.7\n",
    "_test_fl = 0.0\n",
    "\n",
    "x = np.linspace(-1, 1, 500)\n",
    "fig, (ax1, ax2) = plt.subplots(1, 2, figsize=(8, 3))\n",
    "ax1.plot(x, [log_likelihood(fl=i, afb=_test_afb, bin_number=_test_bin) for i in x])\n",
    "ax1.set_title(r'$A_{FB}$ = ' + str(_test_afb))\n",
    "ax1.set_xlabel(r'$F_L$')\n",
    "ax1.set_ylabel(r'$-\\mathcal{L}$')\n",
    "ax1.grid()\n",
    "ax2.plot(x, [log_likelihood(fl=_test_fl, afb=i, bin_number=_test_bin) for i in x])\n",
    "ax2.set_title(r'$F_{L}$ = ' + str(_test_fl))\n",
    "ax2.set_xlabel(r'$A_{FB}$')\n",
    "ax2.set_ylabel(r'$-\\mathcal{L}$')\n",
    "ax2.grid()\n",
    "plt.tight_layout()\n",
    "plt.show()"
   ]
  },
  {
   "cell_type": "markdown",
   "metadata": {},
   "source": [
    "### Fitting values of $A_{FB}$ and $F_L$ for every bin"
   ]
  },
  {
   "cell_type": "code",
   "execution_count": 29,
   "metadata": {},
   "outputs": [
    {
     "name": "stdout",
     "output_type": "stream",
     "text": [
      "Bin 0: 0.45 pm 0.048, 0.203 pm 0.024. Function minimum considered valid: True\n",
      "Bin 1: 0.248 pm 0.04, 0.398 pm 0.02. Function minimum considered valid: True\n",
      "Bin 2: 0.215 pm 0.034, 0.445 pm 0.018. Function minimum considered valid: True\n",
      "Bin 3: 0.15 pm 0.031, 0.38 pm 0.017. Function minimum considered valid: True\n",
      "Bin 4: 0.304 pm 0.025, 0.258 pm 0.014. Function minimum considered valid: True\n",
      "Bin 5: 0.354 pm 0.055, 0.183 pm 0.032. Function minimum considered valid: True\n",
      "Bin 6: 0.283 pm 0.075, 0.195 pm 0.043. Function minimum considered valid: True\n",
      "Bin 7: 0.405 pm 0.04, 0.193 pm 0.023. Function minimum considered valid: True\n",
      "Bin 8: 0.196 pm 0.02, 0.404 pm 0.01. Function minimum considered valid: True\n",
      "Bin 9: 0.329 pm 0.048, 0.196 pm 0.028. Function minimum considered valid: True\n"
     ]
    }
   ],
   "source": [
    "bin_number_to_check = 0  # bin that we want to check in more details in the next cell\n",
    "bin_results_to_check = None\n",
    "\n",
    "log_likelihood.errordef = Minuit.LIKELIHOOD\n",
    "decimal_places = 3\n",
    "starting_point = [-0.1,0.0]\n",
    "fls, fl_errs = [], []\n",
    "afbs, afb_errs = [], []\n",
    "for i in range(len(data_bins)):\n",
    "    m = Minuit(log_likelihood, fl=starting_point[0], afb=starting_point[1], bin_number=i)\n",
    "    m.fixed['bin_number'] = True  # fixing the bin number as we don't want to optimize it\n",
    "    m.limits=((-1.0, 1.0), (-1.0, 1.0), None)\n",
    "    m.migrad()\n",
    "    m.hesse()\n",
    "    if i == bin_number_to_check:\n",
    "        bin_results_to_check = m\n",
    "    fls.append(m.values[0])\n",
    "    afbs.append(m.values[1])\n",
    "    fl_errs.append(m.errors[0])\n",
    "    afb_errs.append(m.errors[1])\n",
    "    print(f\"Bin {i}: {np.round(fls[i], decimal_places)} pm {np.round(fl_errs[i], decimal_places)},\", f\"{np.round(afbs[i], decimal_places)} pm {np.round(afb_errs[i], decimal_places)}. Function minimum considered valid: {m.fmin.is_valid}\")"
   ]
  },
  {
   "cell_type": "code",
   "execution_count": 30,
   "metadata": {},
   "outputs": [
    {
     "data": {
      "image/png": "[encoded data removed]",
      "text/plain": [
       "<Figure size 576x360 with 2 Axes>"
      ]
     },
     "metadata": {
      "needs_background": "light"
     },
     "output_type": "display_data"
    }
   ],
   "source": [
    "plt.figure(figsize=(8, 5))\n",
    "plt.subplot(221)\n",
    "bin_results_to_check.draw_mnprofile('afb', bound=3)\n",
    "plt.subplot(222)\n",
    "bin_results_to_check.draw_mnprofile('fl', bound=3)\n",
    "plt.tight_layout()\n",
    "plt.show()"
   ]
  },
  {
   "cell_type": "markdown",
   "metadata": {},
   "source": [
    "### Plotting the fit for a particular bin"
   ]
  },
  {
   "cell_type": "code",
   "execution_count": 45,
   "metadata": {},
   "outputs": [
    {
     "data": {
      "image/png": "[encoded data removed]",
      "text/plain": [
       "<Figure size 432x288 with 1 Axes>"
      ]
     },
     "metadata": {
      "needs_background": "light"
     },
     "output_type": "display_data"
    }
   ],
   "source": [
    "bin_to_plot = 5\n",
    "cos_theta_l_bin = data_bins[bin_to_plot]['costhetal']\n",
    "hist, _bins, _ = plt.hist(cos_theta_l_bin, bins=number_of_bins_in_hist)\n",
    "x = np.linspace(-1, 1, number_of_bins_in_hist)\n",
    "pdf_multiplier = np.sum(hist) * (np.max(cos_theta_l_bin) - np.min(cos_theta_l_bin)) / number_of_bins_in_hist\n",
    "y = d2gamma_p_d2q2_dcostheta(fl=fls[bin_to_plot], afb=afbs[bin_to_plot], cos_theta_l=x, acceptance_func=acceptance_funcs[bin_to_plot], normalisation_factor=normalisation_factors[bin_to_plot]) * pdf_multiplier\n",
    "plt.plot(x, y, label=f'Fit for bin {bin_to_plot}')\n",
    "plt.xlabel(r'$cos(\\theta_l)$')\n",
    "plt.ylabel(r'Number of candidates')\n",
    "plt.legend()\n",
    "plt.grid()\n",
    "plt.show()"
   ]
  },
  {
   "cell_type": "markdown",
   "metadata": {},
   "source": [
    "### Visualise the results for every bin"
   ]
  },
  {
   "cell_type": "code",
   "execution_count": 46,
   "metadata": {},
   "outputs": [
    {
     "data": {
      "image/png": "[encoded data removed]",
      "text/plain": [
       "<Figure size 700x300 with 2 Axes>"
      ]
     },
     "metadata": {
      "needs_background": "light"
     },
     "output_type": "display_data"
    }
   ],
   "source": [
    "fig, (ax1, ax2) = plt.subplots(1, 2, figsize=(7, 3), dpi=100)\n",
    "ax1.errorbar(np.linspace(0, len(data_bins) - 1, len(data_bins)), fls, yerr=fl_errs, fmt='o', markersize=2, label=r'$F_L$', color='red')\n",
    "ax2.errorbar(np.linspace(0, len(data_bins) - 1, len(data_bins)), afbs, yerr=afb_errs, fmt='o', markersize=2, label=r'$A_{FB}$', color='red')\n",
    "ax1.grid()\n",
    "ax2.grid()\n",
    "ax1.set_ylabel(r'$F_L$')\n",
    "ax2.set_ylabel(r'$A_{FB}$')\n",
    "ax1.set_xlabel(r'Bin number')\n",
    "ax2.set_xlabel(r'Bin number')\n",
    "plt.tight_layout()\n",
    "plt.show()\n"
   ]
  },
  {
   "cell_type": "code",
   "execution_count": null,
   "metadata": {},
   "outputs": [],
   "source": []
  }
 ],
 "metadata": {
  "interpreter": {
   "hash": "03a09542d522693e6f3b273686c5eb4bd5cf8c2a56a10debac1b1c630d58e55d"
  },
  "kernelspec": {
   "display_name": "Python 3.7.9 64-bit ('base': conda)",
   "language": "python",
   "name": "python3"
  },
  "language_info": {
   "codemirror_mode": {
    "name": "ipython",
    "version": 3
   },
   "file_extension": ".py",
   "mimetype": "text/x-python",
   "name": "python",
   "nbconvert_exporter": "python",
   "pygments_lexer": "ipython3",
   "version": "3.7.9"
  },
  "orig_nbformat": 4
 },
 "nbformat": 4,
 "nbformat_minor": 2
}
